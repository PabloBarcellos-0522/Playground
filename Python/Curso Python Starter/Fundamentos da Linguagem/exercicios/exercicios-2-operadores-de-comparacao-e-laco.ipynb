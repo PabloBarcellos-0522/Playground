{
 "cells": [
  {
   "cell_type": "markdown",
   "metadata": {},
   "source": [
    "<img src=\"https://asimov.academy/wp-content/uploads/2021/01/logo.png\" width=\"200\"/>\n",
    "_____________________________________________\n",
    "\n",
    "## Exercícios #2 - Operadores de comparação e laços\n"
   ]
  },
  {
   "cell_type": "markdown",
   "metadata": {},
   "source": [
    "### Exercício 1\n",
    "Faça um programa para a leitura de duas notas parciais de um aluno. O programa deve calcular a média alcançada por aluno e apresentar:\n",
    "- A mensagem \"Aprovado\", se a média alcançada for maior ou igual a 7;\n",
    "- A mensagem \"Reprovado\", se a média for menor do que 7;\n",
    "- A mensagem \"Aprovado com Distinção\", se a média for igual a 10."
   ]
  },
  {
   "cell_type": "code",
   "execution_count": 2,
   "metadata": {},
   "outputs": [
    {
     "name": "stdout",
     "output_type": "stream",
     "text": [
      "qual a primeira nota?\n",
      "qual a segunda nota?\n",
      "=============================\n",
      "\n",
      "REPROVADO!\n",
      "nota media: 3.9\n"
     ]
    }
   ],
   "source": [
    "nota1 = float(input(print('qual a primeira nota?')))\n",
    "nota2 = float(input(print('qual a segunda nota?')))\n",
    "\n",
    "media = (nota1 + nota2)/2\n",
    "print('=============================\\n')\n",
    "if media < 7:\n",
    "    print('REPROVADO!')\n",
    "    print(f'nota media: {media}')\n",
    "elif media >= 7:\n",
    "    print('APROVADO!')\n",
    "    print(f'nota media: {media}')\n",
    "elif media == 10:\n",
    "    print('APROVADO COM DISTINÇÃO!')\n",
    "    print(f'nota media: {media}')"
   ]
  },
  {
   "cell_type": "markdown",
   "metadata": {},
   "source": [
    "### Exercício 2\n",
    "Escreva um script que leia três números e mostre o maior e o menor deles."
   ]
  },
  {
   "cell_type": "code",
   "execution_count": 6,
   "metadata": {},
   "outputs": [
    {
     "name": "stdout",
     "output_type": "stream",
     "text": [
      "escreva todos os numeros separados por espaço:\n",
      "o menor é 1, e o maior é 20\n",
      "teve um total de 8 numeros\n"
     ]
    }
   ],
   "source": [
    "import time\n",
    "\n",
    "time.sleep(1)\n",
    "print('escreva todos os numeros separados por espaço:')\n",
    "time.sleep(1)\n",
    "numeros = input()\n",
    "\n",
    "x = numeros.split()\n",
    "quantidade = len(x)\n",
    "\n",
    "c = []\n",
    "for i in range(quantidade):\n",
    "    a = int(i) - 1\n",
    "    b = int(x[a])\n",
    "    c.append(b)\n",
    "\n",
    "c.sort()\n",
    "\n",
    "menor = c[0]\n",
    "maior = sorted(c)[-1]\n",
    "\n",
    "print(f'o menor é {menor}, e o maior é {maior}')\n",
    "print(f'teve um total de {quantidade} numeros')"
   ]
  },
  {
   "cell_type": "markdown",
   "metadata": {},
   "source": [
    "### Exercício 3 \n",
    "Nome na vertical em escada. \n",
    "\n",
    "F<br>\n",
    "FU<br>\n",
    "FUL<br>\n",
    "FULA<br>\n",
    "FULAN<br>\n",
    "FULANO<br>"
   ]
  },
  {
   "cell_type": "code",
   "execution_count": 117,
   "metadata": {},
   "outputs": [
    {
     "name": "stdout",
     "output_type": "stream",
     "text": [
      "Informe o nome:\n",
      "========================\n",
      "\n",
      "P\n",
      "Pa\n",
      "Pab\n",
      "Pabl\n",
      "Pablo\n"
     ]
    }
   ],
   "source": [
    "print(\"Informe o nome:\")\n",
    "nome = input()\n",
    "print(\"========================\")\n",
    "for i in range(len(nome) + 1):\n",
    "    print(nome[:i])"
   ]
  },
  {
   "cell_type": "markdown",
   "metadata": {},
   "source": [
    "### Exercício 4\n",
    "A série de Fibonacci é formada pela seqüência 1,1,2,3,5,8,13,21,34,55,... (o próximo termo, a partir do terceiro, é sempre gerado a partir do somatório dos últimos dois). Faça um programa capaz de gerar a série até o n−ésimo termo (onde o valor n deve ser inserido pelo usuário)."
   ]
  },
  {
   "cell_type": "code",
   "execution_count": 84,
   "metadata": {},
   "outputs": [
    {
     "name": "stdout",
     "output_type": "stream",
     "text": [
      "quantos termos?\n",
      "[1, 1, 2, 3, 5, 8, 13, 21, 34, 55, 89, 144]\n"
     ]
    }
   ],
   "source": [
    "n = int(input(print('quantos termos?')))\n",
    "\n",
    "lista = [1, 1]\n",
    "\n",
    "for i in range(n):\n",
    "    proximo = lista[-2] + lista[-1]\n",
    "    lista.append(proximo)\n",
    "    \n",
    "print(lista)"
   ]
  },
  {
   "cell_type": "markdown",
   "metadata": {},
   "source": [
    "### Exercício 5\n",
    "Faça um programa que leia e valide as seguintes informações:\n",
    "- Nome: maior que 3 caracteres;\n",
    "- Idade: entre 0 e 150;\n",
    "- Salário: maior que zero;\n",
    "- Sexo: 'f' ou 'm';\n",
    "- Estado Civil: 's', 'c', 'v', 'd';"
   ]
  },
  {
   "cell_type": "code",
   "execution_count": 2,
   "metadata": {},
   "outputs": [
    {
     "name": "stdout",
     "output_type": "stream",
     "text": [
      "qual seu nome?\n",
      "seu nome deve ser maior que 3, digite novamente:\n",
      "qual seu nome?\n",
      "complete\n"
     ]
    }
   ],
   "source": [
    "validation = True\n",
    "while validation:\n",
    "    nome = input(print('qual seu nome?'))\n",
    "    if len(nome) <= 3:\n",
    "        print('seu nome deve ser maior que 3 digitos, vamos tentar novamente:')\n",
    "    else:\n",
    "        validation = False\n",
    "        print('complete')"
   ]
  },
  {
   "cell_type": "markdown",
   "metadata": {},
   "source": [
    "### Exercício 6\n",
    "Faça um programa que peça um número inteiro e determine se ele é ou não um número primo. Um número primo é aquele que é divisível somente por ele mesmo e por 1. \n",
    "Dica: Utilize o operador aritmético `%`, que retorna o resto da divisão de dois números."
   ]
  },
  {
   "cell_type": "code",
   "execution_count": 116,
   "metadata": {},
   "outputs": [
    {
     "name": "stdout",
     "output_type": "stream",
     "text": [
      "digite um numero inteiro\n",
      "esse numero é primo!\n"
     ]
    }
   ],
   "source": [
    "numero = int(input(print('digite um numero inteiro')))\n",
    "primos = []\n",
    "for i in range(numero-1):\n",
    "    if (int(numero) % (i+2)) == 0:\n",
    "        primos.append(i+2)\n",
    "\n",
    "\n",
    "if len(primos) == 1:\n",
    "    print('esse numero é primo!')\n",
    "else:\n",
    "    print('esse numero não é primo!')"
   ]
  }
 ],
 "metadata": {
  "kernelspec": {
   "display_name": "Python 3 (ipykernel)",
   "language": "python",
   "name": "python3"
  },
  "language_info": {
   "codemirror_mode": {
    "name": "ipython",
    "version": 3
   },
   "file_extension": ".py",
   "mimetype": "text/x-python",
   "name": "python",
   "nbconvert_exporter": "python",
   "pygments_lexer": "ipython3",
   "version": "3.9.13"
  }
 },
 "nbformat": 4,
 "nbformat_minor": 4
}
