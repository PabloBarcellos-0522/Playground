{
 "cells": [
  {
   "cell_type": "markdown",
   "metadata": {},
   "source": [
    "<img src=\"https://asimov.academy/wp-content/uploads/2021/01/logo.png\" width=\"200\"/>\n",
    "_____________________________________________\n",
    "\n",
    "## Exercícios #1 - Estruturas de dados\n"
   ]
  },
  {
   "cell_type": "markdown",
   "metadata": {},
   "source": [
    "### Exercício 1\n",
    "Utilizando o built-in method input(), crie um programa que receba a altura e o peso de uma pessoa e imprima na tela o IMC da mesma."
   ]
  },
  {
   "cell_type": "code",
   "execution_count": 1,
   "metadata": {},
   "outputs": [
    {
     "name": "stdout",
     "output_type": "stream",
     "text": [
      "Bem vindo a calculadora IMC!.\n",
      "qual sua altura?\n",
      "qual seu peso?\n",
      "calculando...\n",
      "calculando...\n",
      "\n",
      "\n",
      "=========================\n",
      "\n",
      "\n",
      "Seu IMC é: 17.3\n",
      "você está abixo do peso\n"
     ]
    }
   ],
   "source": [
    "import time\n",
    "\n",
    "\n",
    "print('Bem vindo a calculadora IMC!.')\n",
    "print('qual sua altura?')\n",
    "altura = float(input())\n",
    "\n",
    "\n",
    "print('qual seu peso?')\n",
    "peso = float(input())\n",
    "\n",
    "imc = peso/altura **2\n",
    "\n",
    "\n",
    "print('calculando...')\n",
    "time.sleep(1)\n",
    "print('calculando...')\n",
    "time.sleep(1)\n",
    "\n",
    "print('\\n')\n",
    "print('=========================')\n",
    "print('\\n')\n",
    "print('Seu IMC é: {:.1f}'  .format(imc))\n",
    "\n",
    "if imc < 18.5:\n",
    "    print('você está abixo do peso')\n",
    "\n",
    "elif (imc > 18.5) and (imc < 25):\n",
    "    print('você está no peso ideal, parabens!')\n",
    "\n",
    "elif (imc >= 25) and (imc < 30):\n",
    "    print('você está levemente acima do peso')\n",
    "\n",
    "elif (imc >= 30) and (imc < 35):\n",
    "    print('você está na obesidade grau 1')\n",
    "\n",
    "elif (imc >= 35) and (imc < 40):\n",
    "    print('você está na obesidade grau 2 (severa)')\n",
    "\n",
    "elif imc >= 40:\n",
    "    print('você está na obesidade grau 3 (mórbida, procure um doutor rapidamente!)')"
   ]
  },
  {
   "cell_type": "markdown",
   "metadata": {},
   "source": [
    "### Exercício 2 \n",
    "Escreva um programa que pergunte o nome completo do usuário e cumprimente o mesmo pelo primeiro nome."
   ]
  },
  {
   "cell_type": "code",
   "execution_count": 6,
   "metadata": {},
   "outputs": [
    {
     "name": "stdout",
     "output_type": "stream",
     "text": [
      "qual seu nome completo?\n",
      "olá pablo\n"
     ]
    }
   ],
   "source": [
    "print('qual seu nome completo?')\n",
    "nome_completo = input()\n",
    "\n",
    "\n",
    "primeiro_nome = nome_completo.split()[0]\n",
    "\n",
    "\n",
    "print('olá {}'.format(primeiro_nome))"
   ]
  },
  {
   "cell_type": "markdown",
   "metadata": {},
   "source": [
    "### Exercício 3\n",
    "Desenho um código que extraia o domínio de um e-mail informado."
   ]
  },
  {
   "cell_type": "code",
   "execution_count": 35,
   "metadata": {},
   "outputs": [
    {
     "name": "stdout",
     "output_type": "stream",
     "text": [
      "qual se e-mail?\n"
     ]
    },
    {
     "data": {
      "text/plain": [
       "'gmail.com'"
      ]
     },
     "execution_count": 35,
     "metadata": {},
     "output_type": "execute_result"
    }
   ],
   "source": [
    "print('qual se e-mail?')\n",
    "e_mail = input()\n",
    "e_mail.split('@')[-1]"
   ]
  },
  {
   "cell_type": "markdown",
   "metadata": {},
   "source": [
    "### Exercício 4 \n",
    "Faça um programa para uma loja de tintas. A pessoa informa a área em m2 que deseja pintar, e o script calculará a quantidade de latas de tinta que a pessoa deve comprar e o valor. Considere que cada litro de tinta pinta 3m2, que cada lata contém 18L e que custa R$ 80."
   ]
  },
  {
   "cell_type": "code",
   "execution_count": 3,
   "metadata": {},
   "outputs": [
    {
     "name": "stdout",
     "output_type": "stream",
     "text": [
      "quantos m2 o senhor vai pintar?\n",
      "2.0 lata de tinta, 160 reias\n"
     ]
    }
   ],
   "source": [
    "print('quantos m2 o senhor vai pintar?')\n",
    "m2 = float(input())\n",
    "litro = 3\n",
    "latas = (m2/litro/18)\n",
    "valor = 80\n",
    "q_latas = 1\n",
    "loop = True\n",
    "while loop:\n",
    "\n",
    "  if latas <= q_latas:\n",
    "      latas = valor/80\n",
    "      print(f'{latas} lata de tinta, {valor} reias')\n",
    "      loop = False\n",
    "  else:\n",
    "   valor = valor+80\n",
    "   q_latas = q_latas+1\n",
    "   loop = True"
   ]
  },
  {
   "cell_type": "markdown",
   "metadata": {},
   "source": [
    "### Exercício 5\n",
    "Faça um Programa que pergunte quanto você ganha por hora e o número de horas trabalhadas no mês. Calcule e mostre o total do seu salário no referido mês, sabendo-se que são descontados 11% para o Imposto de Renda, 8% para o INSS e 5% para o sindicato, faça um programa que nos dê:\n",
    "1. Salário bruto.\n",
    "2. Quanto pagou ao INSS.\n",
    "3. Quanto pagou ao sindicato.\n",
    "4. O salário líquido."
   ]
  },
  {
   "cell_type": "code",
   "execution_count": 4,
   "metadata": {},
   "outputs": [
    {
     "name": "stdout",
     "output_type": "stream",
     "text": [
      "quanto voce ganha por hora?\n",
      "qual seu numero de horas trabalhadas no mês?\n",
      "\n",
      "\n",
      "seu salário bruto é: 15000.00 reais\n",
      "voce pagou 1068.00 reias de inss\n",
      "voce pagou 614.10 reias ao sindicato\n",
      "seu salário líquido é: 11667.90\n"
     ]
    }
   ],
   "source": [
    "print('quanto voce ganha por hora?')\n",
    "ganho_hora = float(input())\n",
    "\n",
    "\n",
    "print('qual seu numero de horas trabalhadas no mês?')\n",
    "horas = float(input())\n",
    "salario_mes = ganho_hora * horas\n",
    "\n",
    "\n",
    "imposto = salario_mes * 0.11\n",
    "inss = (salario_mes - imposto) * 0.08\n",
    "sindicato = (salario_mes - imposto - inss) * 0.05\n",
    "salário_líquido = salario_mes - (imposto + inss + sindicato)\n",
    "\n",
    "print('\\n')\n",
    "print('seu salário bruto é: {:.2f} reais'        .format(salario_mes))\n",
    "print('voce pagou {:.2f} reias de inss'          .format(inss))\n",
    "print('voce pagou {:.2f} reias ao sindicato'     .format(sindicato))\n",
    "print('seu salário líquido é: {:.2f}'            .format(salário_líquido)) "
   ]
  }
 ],
 "metadata": {
  "kernelspec": {
   "display_name": "Python 3",
   "language": "python",
   "name": "python3"
  },
  "language_info": {
   "codemirror_mode": {
    "name": "ipython",
    "version": 3
   },
   "file_extension": ".py",
   "mimetype": "text/x-python",
   "name": "python",
   "nbconvert_exporter": "python",
   "pygments_lexer": "ipython3",
   "version": "3.9.13"
  }
 },
 "nbformat": 4,
 "nbformat_minor": 4
}
